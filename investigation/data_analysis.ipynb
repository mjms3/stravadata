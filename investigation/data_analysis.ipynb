{
 "cells": [
  {
   "cell_type": "code",
   "execution_count": null,
   "metadata": {
    "collapsed": false
   },
   "outputs": [],
   "source": [
    "%matplotlib notebook\n",
    "import pandas as pd\n",
    "import matplotlib.pyplot as plt\n",
    "import matplotlib.cm as cm\n",
    "import numpy as np\n",
    "\n",
    "df = pd.DataFrame.from_csv('ride_data.csv')\n",
    "n_activities = df.activity.max()+1\n",
    "for i_activity in range(n_activities):\n",
    "    df[df.activity==i_activity].altitude.plot()"
   ]
  },
  {
   "cell_type": "code",
   "execution_count": null,
   "metadata": {
    "collapsed": false
   },
   "outputs": [],
   "source": [
    "max_time = max(sum(df.activity==i_act) for i_act in range(2))\n",
    "print(max_time)\n",
    "\n",
    "colour_map = cm.plasma(np.linspace(0, 1, max_time))\n",
    "\n",
    "for i_activity in range(n_activities):\n",
    "    query = (df.activity==i_activity) & (df.velocity_smooth>0) & (df.moving)\n",
    "    fig = plt.figure()\n",
    "    ax = fig.add_subplot(1,2,1)\n",
    "    ax.plot(df[query].grade_smooth)\n",
    "    ax.plot(df[query].velocity_smooth)\n",
    "    ax = fig.add_subplot(1,2,2)\n",
    "    sc = ax.scatter(df[query].grade_smooth,\n",
    "            df[query].velocity_smooth,color=colour_map[:sum(query)])\n",
    "    m = cm.ScalarMappable(cmap=cm.plasma)\n",
    "    m.set_array(np.linspace(0, 1, max_time))\n",
    "    fig.colorbar(m,ax=ax)\n",
    "    fig.show()\n",
    "    print(sum(query))"
   ]
  },
  {
   "cell_type": "code",
   "execution_count": null,
   "metadata": {
    "collapsed": true
   },
   "outputs": [],
   "source": []
  }
 ],
 "metadata": {
  "anaconda-cloud": {},
  "kernelspec": {
   "display_name": "Python [Root]",
   "language": "python",
   "name": "Python [Root]"
  },
  "language_info": {
   "codemirror_mode": {
    "name": "ipython",
    "version": 3
   },
   "file_extension": ".py",
   "mimetype": "text/x-python",
   "name": "python",
   "nbconvert_exporter": "python",
   "pygments_lexer": "ipython3",
   "version": "3.5.2"
  }
 },
 "nbformat": 4,
 "nbformat_minor": 0
}
