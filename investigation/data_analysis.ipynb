{
 "cells": [
  {
   "cell_type": "code",
   "execution_count": null,
   "metadata": {
    "collapsed": false
   },
   "outputs": [],
   "source": [
    "%matplotlib notebook\n",
    "import pandas as pd\n",
    "df = pd.DataFrame.from_csv('ride_data.csv')\n",
    "for i_activity in range(2):\n",
    "    df[df.activity==i_activity].altitude.plot()"
   ]
  },
  {
   "cell_type": "code",
   "execution_count": null,
   "metadata": {
    "collapsed": false
   },
   "outputs": [],
   "source": [
    "import matplotlib.pyplot as plt\n",
    "for i_activity in range(2):\n",
    "    query = (df.activity==i_activity) & (df.velocity_smooth>2)\n",
    "    fig = plt.figure()\n",
    "    ax = fig.add_subplot(1,2,1)\n",
    "    ax.plot(df[query].grade_smooth)\n",
    "    ax.plot(df[query].velocity_smooth)\n",
    "    fig.show()\n",
    "    ax = fig.add_subplot(1,2,2)\n",
    "    ax.plot(df[query].grade_smooth,\n",
    "            df[query].velocity_smooth,'.')\n",
    "    fig.show()"
   ]
  }
 ],
 "metadata": {
  "anaconda-cloud": {},
  "kernelspec": {
   "display_name": "Python [Root]",
   "language": "python",
   "name": "Python [Root]"
  },
  "language_info": {
   "codemirror_mode": {
    "name": "ipython",
    "version": 3
   },
   "file_extension": ".py",
   "mimetype": "text/x-python",
   "name": "python",
   "nbconvert_exporter": "python",
   "pygments_lexer": "ipython3",
   "version": "3.5.2"
  }
 },
 "nbformat": 4,
 "nbformat_minor": 0
}
